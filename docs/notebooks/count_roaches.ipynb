{
 "cells": [
  {
   "cell_type": "code",
   "execution_count": 33,
   "metadata": {},
   "outputs": [],
   "source": [
    "import arviz as az\n",
    "import bambi as bmb\n",
    "import matplotlib.pyplot as plt\n",
    "import numpy as np\n",
    "import pandas as pd\n",
    "\n",
    "from scipy.stats import nbinom"
   ]
  },
  {
   "cell_type": "code",
   "execution_count": 34,
   "metadata": {},
   "outputs": [],
   "source": [
    "az.style.use(\"arviz-darkgrid\")\n",
    "SEED = 7355608"
   ]
  },
  {
   "cell_type": "markdown",
   "metadata": {},
   "source": [
    "# Poisson and Negative Binomial regression example with offsets\n",
    "\n",
    "This example is based on the [\"Roaches\"](https://github.com/avehtari/ROS-Examples/tree/master/Roaches/) example from [Regression and Other Stories](https://avehtari.github.io/ROS-Examples/index.html) by Gelman, Hill, and Vehtari.   The example is a count regression model with an offset term. \n",
    "\n",
    "The data is the number of roaches caught in 262 apartments.  Some pest control treatment was applied to 158 (treatment=1) of the apartments, and 104 apartments received no treatment (treatment=0).   The other columns in the data are:\n",
    "\n",
    "- `y`: the number of roaches caught\n",
    "- `roach1` : the pre-treatment roach level\n",
    "- `senior` : indicator for whether the appartment is for seniors\n",
    "- `exposure2` : the number of trap-days (number of traps x number of days).   \n",
    "\n"
   ]
  },
  {
   "cell_type": "code",
   "execution_count": 35,
   "metadata": {},
   "outputs": [
    {
     "data": {
      "text/html": [
       "<div>\n",
       "<style scoped>\n",
       "    .dataframe tbody tr th:only-of-type {\n",
       "        vertical-align: middle;\n",
       "    }\n",
       "\n",
       "    .dataframe tbody tr th {\n",
       "        vertical-align: top;\n",
       "    }\n",
       "\n",
       "    .dataframe thead th {\n",
       "        text-align: right;\n",
       "    }\n",
       "</style>\n",
       "<table border=\"1\" class=\"dataframe\">\n",
       "  <thead>\n",
       "    <tr style=\"text-align: right;\">\n",
       "      <th></th>\n",
       "      <th>y</th>\n",
       "      <th>roach1</th>\n",
       "      <th>treatment</th>\n",
       "      <th>senior</th>\n",
       "      <th>exposure2</th>\n",
       "    </tr>\n",
       "  </thead>\n",
       "  <tbody>\n",
       "    <tr>\n",
       "      <th>1</th>\n",
       "      <td>153</td>\n",
       "      <td>3.0800</td>\n",
       "      <td>1</td>\n",
       "      <td>0</td>\n",
       "      <td>0.800000</td>\n",
       "    </tr>\n",
       "    <tr>\n",
       "      <th>2</th>\n",
       "      <td>127</td>\n",
       "      <td>3.3125</td>\n",
       "      <td>1</td>\n",
       "      <td>0</td>\n",
       "      <td>0.600000</td>\n",
       "    </tr>\n",
       "    <tr>\n",
       "      <th>3</th>\n",
       "      <td>7</td>\n",
       "      <td>0.0167</td>\n",
       "      <td>1</td>\n",
       "      <td>0</td>\n",
       "      <td>1.000000</td>\n",
       "    </tr>\n",
       "    <tr>\n",
       "      <th>4</th>\n",
       "      <td>7</td>\n",
       "      <td>0.0300</td>\n",
       "      <td>1</td>\n",
       "      <td>0</td>\n",
       "      <td>1.000000</td>\n",
       "    </tr>\n",
       "    <tr>\n",
       "      <th>5</th>\n",
       "      <td>0</td>\n",
       "      <td>0.0200</td>\n",
       "      <td>1</td>\n",
       "      <td>0</td>\n",
       "      <td>1.142857</td>\n",
       "    </tr>\n",
       "  </tbody>\n",
       "</table>\n",
       "</div>"
      ],
      "text/plain": [
       "     y  roach1  treatment  senior  exposure2\n",
       "1  153  3.0800          1       0   0.800000\n",
       "2  127  3.3125          1       0   0.600000\n",
       "3    7  0.0167          1       0   1.000000\n",
       "4    7  0.0300          1       0   1.000000\n",
       "5    0  0.0200          1       0   1.142857"
      ]
     },
     "execution_count": 35,
     "metadata": {},
     "output_type": "execute_result"
    }
   ],
   "source": [
    "roaches = pd.read_csv(\"data/roaches.csv\", index_col=0)\n",
    "# rescale \n",
    "roaches[\"roach1\"] = roaches[\"roach1\"] / 100\n",
    "roaches.head()\n"
   ]
  },
  {
   "cell_type": "markdown",
   "metadata": {},
   "source": [
    "## Poisson regression"
   ]
  },
  {
   "cell_type": "markdown",
   "metadata": {},
   "source": [
    "\n",
    "\n",
    "One way to model this is to say that there is some rate of roaches per trap-day , and that the number of roaches caught is a Poisson random variable with a rate that is proportional to the number of trap-days (the *exposure*).    That is:\n",
    "\n",
    "$$\n",
    "\\begin{align*}\n",
    "y_i &\\sim \\text{Poisson}(\\text{exposure2}_i \\times \\rho_i) \\\\\n",
    "\\log(\\rho_i) &= \\beta_0 + \\beta_1 \\text{treatment}_i + \\beta_2 \\text{roach1}_i + \\beta_3 \\text{senior}_i\n",
    "\\end{align*}\n",
    "$$\n",
    "\n",
    "With a little algebra, we can rewrite this as a generalized linear model:\n",
    "\n",
    "$$\n",
    "\\begin{align*}\n",
    "y_i &\\sim \\text{Poisson}(\\lambda_i) \\\\\n",
    "\\log(\\lambda_i) &= \\beta_0 + \\beta_1 \\text{treatment}_i + \\beta_2 \\text{roach1}_i + \\beta_3 \\text{senior}_i + \\log(\\text{exposure2}_i)\n",
    "\\end{align*}\n",
    "$$\n",
    "\n",
    "However, we don't want to estimate a coefficient for $\\log(\\text{exposure2})$, we want to simply add it as an *offset*.   In `bambi` we do this by using the `offset` function in the formula to specify that a term should not be multiplied by a coefficient to estimate and simply added.  The formula for the model is then:\n",
    "\n",
    "```python\n",
    "\"y ~ roach1 + treatment + senior + offset(log(exposure2))\"\n",
    "```\n",
    "\n",
    "If you are familiar with R this offset term is the same as the offset term in the `glm` function."
   ]
  },
  {
   "cell_type": "code",
   "execution_count": 36,
   "metadata": {},
   "outputs": [
    {
     "name": "stderr",
     "output_type": "stream",
     "text": [
      "Auto-assigning NUTS sampler...\n",
      "Initializing NUTS using jitter+adapt_diag...\n",
      "Multiprocess sampling (4 chains in 4 jobs)\n",
      "NUTS: [Intercept, roach1, treatment, senior]\n"
     ]
    },
    {
     "data": {
      "application/vnd.jupyter.widget-view+json": {
       "model_id": "a543f5a476e842fba9e39994f7c168a2",
       "version_major": 2,
       "version_minor": 0
      },
      "text/plain": [
       "Output()"
      ]
     },
     "metadata": {},
     "output_type": "display_data"
    },
    {
     "data": {
      "text/html": [
       "<pre style=\"white-space:pre;overflow-x:auto;line-height:normal;font-family:Menlo,'DejaVu Sans Mono',consolas,'Courier New',monospace\"></pre>\n"
      ],
      "text/plain": []
     },
     "metadata": {},
     "output_type": "display_data"
    },
    {
     "data": {
      "text/html": [
       "<pre style=\"white-space:pre;overflow-x:auto;line-height:normal;font-family:Menlo,'DejaVu Sans Mono',consolas,'Courier New',monospace\">\n",
       "</pre>\n"
      ],
      "text/plain": [
       "\n"
      ]
     },
     "metadata": {},
     "output_type": "display_data"
    },
    {
     "name": "stderr",
     "output_type": "stream",
     "text": [
      "Sampling 4 chains for 1_000 tune and 1_000 draw iterations (4_000 + 4_000 draws total) took 1 seconds.\n"
     ]
    }
   ],
   "source": [
    "\n",
    "# bambi poisson model\n",
    "model_1 = bmb.Model(\"y ~ roach1 + treatment  + senior + offset(log(exposure2))\", family = \"poisson\", data = roaches)\n",
    "idata_1 = model_1.fit()\n"
   ]
  },
  {
   "cell_type": "code",
   "execution_count": 41,
   "metadata": {},
   "outputs": [
    {
     "data": {
      "text/html": [
       "<div>\n",
       "<style scoped>\n",
       "    .dataframe tbody tr th:only-of-type {\n",
       "        vertical-align: middle;\n",
       "    }\n",
       "\n",
       "    .dataframe tbody tr th {\n",
       "        vertical-align: top;\n",
       "    }\n",
       "\n",
       "    .dataframe thead th {\n",
       "        text-align: right;\n",
       "    }\n",
       "</style>\n",
       "<table border=\"1\" class=\"dataframe\">\n",
       "  <thead>\n",
       "    <tr style=\"text-align: right;\">\n",
       "      <th></th>\n",
       "      <th>mean</th>\n",
       "      <th>sd</th>\n",
       "      <th>hdi_3%</th>\n",
       "      <th>hdi_97%</th>\n",
       "      <th>mcse_mean</th>\n",
       "      <th>mcse_sd</th>\n",
       "      <th>ess_bulk</th>\n",
       "      <th>ess_tail</th>\n",
       "      <th>r_hat</th>\n",
       "    </tr>\n",
       "  </thead>\n",
       "  <tbody>\n",
       "    <tr>\n",
       "      <th>Intercept</th>\n",
       "      <td>3.089</td>\n",
       "      <td>0.022</td>\n",
       "      <td>3.046</td>\n",
       "      <td>3.130</td>\n",
       "      <td>0.000</td>\n",
       "      <td>0.0</td>\n",
       "      <td>3637.0</td>\n",
       "      <td>3558.0</td>\n",
       "      <td>1.0</td>\n",
       "    </tr>\n",
       "    <tr>\n",
       "      <th>roach1</th>\n",
       "      <td>0.698</td>\n",
       "      <td>0.009</td>\n",
       "      <td>0.681</td>\n",
       "      <td>0.716</td>\n",
       "      <td>0.000</td>\n",
       "      <td>0.0</td>\n",
       "      <td>3098.0</td>\n",
       "      <td>2512.0</td>\n",
       "      <td>1.0</td>\n",
       "    </tr>\n",
       "    <tr>\n",
       "      <th>senior</th>\n",
       "      <td>-0.381</td>\n",
       "      <td>0.034</td>\n",
       "      <td>-0.442</td>\n",
       "      <td>-0.318</td>\n",
       "      <td>0.001</td>\n",
       "      <td>0.0</td>\n",
       "      <td>4252.0</td>\n",
       "      <td>3179.0</td>\n",
       "      <td>1.0</td>\n",
       "    </tr>\n",
       "    <tr>\n",
       "      <th>treatment</th>\n",
       "      <td>-0.517</td>\n",
       "      <td>0.025</td>\n",
       "      <td>-0.562</td>\n",
       "      <td>-0.468</td>\n",
       "      <td>0.000</td>\n",
       "      <td>0.0</td>\n",
       "      <td>4004.0</td>\n",
       "      <td>2984.0</td>\n",
       "      <td>1.0</td>\n",
       "    </tr>\n",
       "  </tbody>\n",
       "</table>\n",
       "</div>"
      ],
      "text/plain": [
       "            mean     sd  hdi_3%  hdi_97%  mcse_mean  mcse_sd  ess_bulk  \\\n",
       "Intercept  3.089  0.022   3.046    3.130      0.000      0.0    3637.0   \n",
       "roach1     0.698  0.009   0.681    0.716      0.000      0.0    3098.0   \n",
       "senior    -0.381  0.034  -0.442   -0.318      0.001      0.0    4252.0   \n",
       "treatment -0.517  0.025  -0.562   -0.468      0.000      0.0    4004.0   \n",
       "\n",
       "           ess_tail  r_hat  \n",
       "Intercept    3558.0    1.0  \n",
       "roach1       2512.0    1.0  \n",
       "senior       3179.0    1.0  \n",
       "treatment    2984.0    1.0  "
      ]
     },
     "execution_count": 41,
     "metadata": {},
     "output_type": "execute_result"
    }
   ],
   "source": [
    "az.summary(idata_1)"
   ]
  },
  {
   "cell_type": "markdown",
   "metadata": {},
   "source": [
    "Lets check the posterior predictive distribution for the model.  We plot the log of y to make the results easier to see."
   ]
  },
  {
   "cell_type": "code",
   "execution_count": 42,
   "metadata": {},
   "outputs": [],
   "source": [
    "def plot_log_posterior_ppc(model, idata):\n",
    "    # plot posterior predictive check\n",
    "    model.predict(idata, kind='response', inplace=True)\n",
    "    var_name = 'log(y+1)'\n",
    "    # there is probably a better way\n",
    "    idata.posterior_predictive[var_name] = np.log(idata.posterior_predictive['y'] + 1)\n",
    "    idata.observed_data[var_name] = np.log(idata.observed_data['y'] + 1)\n",
    "    \n",
    "    return az.plot_ppc(idata, var_names=[var_name])\n",
    "\n"
   ]
  },
  {
   "cell_type": "code",
   "execution_count": 43,
   "metadata": {},
   "outputs": [
    {
     "data": {
      "text/plain": [
       "<Axes: xlabel='log(y+1)'>"
      ]
     },
     "execution_count": 43,
     "metadata": {},
     "output_type": "execute_result"
    },
    {
     "data": {
      "image/png": "[encoded data removed]",
      "text/plain": [
       "<Figure size 720x480 with 1 Axes>"
      ]
     },
     "metadata": {},
     "output_type": "display_data"
    }
   ],
   "source": [
    "plot_log_posterior_ppc(model_1, idata_1)"
   ]
  },
  {
   "cell_type": "code",
   "execution_count": 44,
   "metadata": {},
   "outputs": [
    {
     "name": "stdout",
     "output_type": "stream",
     "text": [
      "Fraction of zeros in the observed data: 0.35877862595419846\n",
      "Fraction of zeros in the posterior predictive check: 0.0006803435114503817\n",
      " 80% CI: [0.         0.00381679]\n"
     ]
    }
   ],
   "source": [
    "# check number of zeros in y\n",
    "\n",
    "def check_zeros(idata):\n",
    "    # flatten over chains:\n",
    "    sampled_zeros = (idata.posterior_predictive[\"y\"]==0).mean((\"__obs__\")).values.flatten()\n",
    "    print(f\"Fraction of zeros in the observed data: {np.mean(roaches['y']==0)}\")\n",
    "    print(f\"Fraction of zeros in the posterior predictive check: {np.mean(sampled_zeros)}\")\n",
    "    print(f\" 80% CI: {np.percentile(sampled_zeros, [10, 90])}\")\n",
    "\n",
    "check_zeros(idata_1)\n",
    " "
   ]
  },
  {
   "cell_type": "markdown",
   "metadata": {},
   "source": [
    "This is not a very good model for this data, we are drastically underpredicting the number of small counts. This suggests we try an overdispersed model like the negative binomial.   \n",
    "\n",
    "## Negative Binomial Fit"
   ]
  },
  {
   "cell_type": "code",
   "execution_count": 45,
   "metadata": {},
   "outputs": [
    {
     "name": "stderr",
     "output_type": "stream",
     "text": [
      "Auto-assigning NUTS sampler...\n",
      "Initializing NUTS using jitter+adapt_diag...\n",
      "Multiprocess sampling (4 chains in 4 jobs)\n",
      "NUTS: [alpha, Intercept, roach1, treatment, senior]\n"
     ]
    },
    {
     "data": {
      "application/vnd.jupyter.widget-view+json": {
       "model_id": "db8e53e86dd945ed96e176d5bae7e5b0",
       "version_major": 2,
       "version_minor": 0
      },
      "text/plain": [
       "Output()"
      ]
     },
     "metadata": {},
     "output_type": "display_data"
    },
    {
     "data": {
      "text/html": [
       "<pre style=\"white-space:pre;overflow-x:auto;line-height:normal;font-family:Menlo,'DejaVu Sans Mono',consolas,'Courier New',monospace\"></pre>\n"
      ],
      "text/plain": []
     },
     "metadata": {},
     "output_type": "display_data"
    },
    {
     "data": {
      "text/html": [
       "<pre style=\"white-space:pre;overflow-x:auto;line-height:normal;font-family:Menlo,'DejaVu Sans Mono',consolas,'Courier New',monospace\">\n",
       "</pre>\n"
      ],
      "text/plain": [
       "\n"
      ]
     },
     "metadata": {},
     "output_type": "display_data"
    },
    {
     "name": "stderr",
     "output_type": "stream",
     "text": [
      "Sampling 4 chains for 1_000 tune and 1_000 draw iterations (4_000 + 4_000 draws total) took 1 seconds.\n"
     ]
    }
   ],
   "source": [
    "# bambi poisson model\n",
    "model_2 = bmb.Model(\"y ~ roach1 + treatment  + senior + offset(log(exposure2))\", family = \"negativebinomial\", data = roaches)\n",
    "idata_2 = model_2.fit()"
   ]
  },
  {
   "cell_type": "code",
   "execution_count": 46,
   "metadata": {},
   "outputs": [
    {
     "data": {
      "text/html": [
       "<div>\n",
       "<style scoped>\n",
       "    .dataframe tbody tr th:only-of-type {\n",
       "        vertical-align: middle;\n",
       "    }\n",
       "\n",
       "    .dataframe tbody tr th {\n",
       "        vertical-align: top;\n",
       "    }\n",
       "\n",
       "    .dataframe thead th {\n",
       "        text-align: right;\n",
       "    }\n",
       "</style>\n",
       "<table border=\"1\" class=\"dataframe\">\n",
       "  <thead>\n",
       "    <tr style=\"text-align: right;\">\n",
       "      <th></th>\n",
       "      <th>mean</th>\n",
       "      <th>sd</th>\n",
       "      <th>hdi_3%</th>\n",
       "      <th>hdi_97%</th>\n",
       "      <th>mcse_mean</th>\n",
       "      <th>mcse_sd</th>\n",
       "      <th>ess_bulk</th>\n",
       "      <th>ess_tail</th>\n",
       "      <th>r_hat</th>\n",
       "    </tr>\n",
       "  </thead>\n",
       "  <tbody>\n",
       "    <tr>\n",
       "      <th>Intercept</th>\n",
       "      <td>2.849</td>\n",
       "      <td>0.235</td>\n",
       "      <td>2.411</td>\n",
       "      <td>3.275</td>\n",
       "      <td>0.003</td>\n",
       "      <td>0.002</td>\n",
       "      <td>5038.0</td>\n",
       "      <td>2971.0</td>\n",
       "      <td>1.0</td>\n",
       "    </tr>\n",
       "    <tr>\n",
       "      <th>alpha</th>\n",
       "      <td>0.273</td>\n",
       "      <td>0.026</td>\n",
       "      <td>0.225</td>\n",
       "      <td>0.324</td>\n",
       "      <td>0.000</td>\n",
       "      <td>0.000</td>\n",
       "      <td>5261.0</td>\n",
       "      <td>3595.0</td>\n",
       "      <td>1.0</td>\n",
       "    </tr>\n",
       "    <tr>\n",
       "      <th>roach1</th>\n",
       "      <td>1.321</td>\n",
       "      <td>0.254</td>\n",
       "      <td>0.851</td>\n",
       "      <td>1.796</td>\n",
       "      <td>0.004</td>\n",
       "      <td>0.003</td>\n",
       "      <td>4106.0</td>\n",
       "      <td>3317.0</td>\n",
       "      <td>1.0</td>\n",
       "    </tr>\n",
       "    <tr>\n",
       "      <th>senior</th>\n",
       "      <td>-0.329</td>\n",
       "      <td>0.263</td>\n",
       "      <td>-0.821</td>\n",
       "      <td>0.176</td>\n",
       "      <td>0.004</td>\n",
       "      <td>0.003</td>\n",
       "      <td>4147.0</td>\n",
       "      <td>3470.0</td>\n",
       "      <td>1.0</td>\n",
       "    </tr>\n",
       "    <tr>\n",
       "      <th>treatment</th>\n",
       "      <td>-0.784</td>\n",
       "      <td>0.249</td>\n",
       "      <td>-1.296</td>\n",
       "      <td>-0.353</td>\n",
       "      <td>0.004</td>\n",
       "      <td>0.003</td>\n",
       "      <td>4731.0</td>\n",
       "      <td>3091.0</td>\n",
       "      <td>1.0</td>\n",
       "    </tr>\n",
       "  </tbody>\n",
       "</table>\n",
       "</div>"
      ],
      "text/plain": [
       "            mean     sd  hdi_3%  hdi_97%  mcse_mean  mcse_sd  ess_bulk  \\\n",
       "Intercept  2.849  0.235   2.411    3.275      0.003    0.002    5038.0   \n",
       "alpha      0.273  0.026   0.225    0.324      0.000    0.000    5261.0   \n",
       "roach1     1.321  0.254   0.851    1.796      0.004    0.003    4106.0   \n",
       "senior    -0.329  0.263  -0.821    0.176      0.004    0.003    4147.0   \n",
       "treatment -0.784  0.249  -1.296   -0.353      0.004    0.003    4731.0   \n",
       "\n",
       "           ess_tail  r_hat  \n",
       "Intercept    2971.0    1.0  \n",
       "alpha        3595.0    1.0  \n",
       "roach1       3317.0    1.0  \n",
       "senior       3470.0    1.0  \n",
       "treatment    3091.0    1.0  "
      ]
     },
     "execution_count": 46,
     "metadata": {},
     "output_type": "execute_result"
    }
   ],
   "source": [
    "az.summary(idata_2)"
   ]
  },
  {
   "cell_type": "code",
   "execution_count": 47,
   "metadata": {},
   "outputs": [
    {
     "data": {
      "text/plain": [
       "<Axes: xlabel='log(y+1)'>"
      ]
     },
     "execution_count": 47,
     "metadata": {},
     "output_type": "execute_result"
    },
    {
     "data": {
      "image/png": "[encoded data removed]",
      "text/plain": [
       "<Figure size 720x480 with 1 Axes>"
      ]
     },
     "metadata": {},
     "output_type": "display_data"
    }
   ],
   "source": [
    "plot_log_posterior_ppc(model_2, idata_2)"
   ]
  },
  {
   "cell_type": "code",
   "execution_count": 48,
   "metadata": {},
   "outputs": [
    {
     "name": "stdout",
     "output_type": "stream",
     "text": [
      "Fraction of zeros in the observed data: 0.35877862595419846\n",
      "Fraction of zeros in the posterior predictive check: 0.33822614503816795\n",
      " 80% CI: [0.28625954 0.38969466]\n"
     ]
    }
   ],
   "source": [
    "\n",
    "check_zeros(idata_2)"
   ]
  },
  {
   "cell_type": "markdown",
   "metadata": {},
   "source": [
    "The negative binomial distribution fit works much better, predicting the number of zeros consistent with the observed data. *Regression and Other Stories* introduces a further improvement by introducing a zero-inflated regression later in the chapter, but I will not persue that here, after all the point of this example is to illustrate the use of offsets. \n",
    "\n"
   ]
  },
  {
   "cell_type": "markdown",
   "metadata": {},
   "source": [
    "## PYMC equivalent model\n",
    "\n",
    "The model behind the scenes looks like this for the Poission model."
   ]
  },
  {
   "cell_type": "code",
   "execution_count": 49,
   "metadata": {},
   "outputs": [
    {
     "data": {
      "text/latex": [
       "$$\n",
       "            \\begin{array}{rcl}\n",
       "            \\text{Intercept} &\\sim & \\operatorname{Normal}(0,~4.52)\\\\\\text{roach1} &\\sim & \\operatorname{Normal}(0,~3.33)\\\\\\text{treatment} &\\sim & \\operatorname{Normal}(0,~5.11)\\\\\\text{senior} &\\sim & \\operatorname{Normal}(0,~5.43)\\\\\\text{mu} &\\sim & \\operatorname{Deterministic}(f(\\text{senior},~\\text{treatment},~\\text{roach1},~\\text{Intercept}))\\\\\\text{y} &\\sim & \\operatorname{Poisson}(\\text{mu})\n",
       "            \\end{array}\n",
       "            $$"
      ],
      "text/plain": [
       "Intercept ~ Normal(0, 4.52)\n",
       "   roach1 ~ Normal(0, 3.33)\n",
       "treatment ~ Normal(0, 5.11)\n",
       "   senior ~ Normal(0, 5.43)\n",
       "       mu ~ Deterministic(f(senior, treatment, roach1, Intercept))\n",
       "        y ~ Poisson(mu)"
      ]
     },
     "execution_count": 49,
     "metadata": {},
     "output_type": "execute_result"
    }
   ],
   "source": [
    "pymc_model = model_1.backend\n",
    "pymc_model.model"
   ]
  },
  {
   "cell_type": "markdown",
   "metadata": {},
   "source": [
    "\n",
    "Let's look at the equivalent (Poisson) model in PYMC:   "
   ]
  },
  {
   "cell_type": "code",
   "execution_count": 50,
   "metadata": {},
   "outputs": [
    {
     "name": "stderr",
     "output_type": "stream",
     "text": [
      "Auto-assigning NUTS sampler...\n",
      "Initializing NUTS using jitter+adapt_diag...\n",
      "Multiprocess sampling (4 chains in 4 jobs)\n",
      "NUTS: [Intercept, beta_roach1, beta_treatment, beta_senior]\n"
     ]
    },
    {
     "data": {
      "application/vnd.jupyter.widget-view+json": {
       "model_id": "1c325cf756e948819a2c0ee9b41fcc13",
       "version_major": 2,
       "version_minor": 0
      },
      "text/plain": [
       "Output()"
      ]
     },
     "metadata": {},
     "output_type": "display_data"
    },
    {
     "data": {
      "text/html": [
       "<pre style=\"white-space:pre;overflow-x:auto;line-height:normal;font-family:Menlo,'DejaVu Sans Mono',consolas,'Courier New',monospace\"></pre>\n"
      ],
      "text/plain": []
     },
     "metadata": {},
     "output_type": "display_data"
    },
    {
     "data": {
      "text/html": [
       "<pre style=\"white-space:pre;overflow-x:auto;line-height:normal;font-family:Menlo,'DejaVu Sans Mono',consolas,'Courier New',monospace\">\n",
       "</pre>\n"
      ],
      "text/plain": [
       "\n"
      ]
     },
     "metadata": {},
     "output_type": "display_data"
    },
    {
     "name": "stderr",
     "output_type": "stream",
     "text": [
      "Sampling 4 chains for 1_000 tune and 1_000 draw iterations (4_000 + 4_000 draws total) took 1 seconds.\n"
     ]
    },
    {
     "data": {
      "text/html": [
       "<div>\n",
       "<style scoped>\n",
       "    .dataframe tbody tr th:only-of-type {\n",
       "        vertical-align: middle;\n",
       "    }\n",
       "\n",
       "    .dataframe tbody tr th {\n",
       "        vertical-align: top;\n",
       "    }\n",
       "\n",
       "    .dataframe thead th {\n",
       "        text-align: right;\n",
       "    }\n",
       "</style>\n",
       "<table border=\"1\" class=\"dataframe\">\n",
       "  <thead>\n",
       "    <tr style=\"text-align: right;\">\n",
       "      <th></th>\n",
       "      <th>mean</th>\n",
       "      <th>sd</th>\n",
       "      <th>hdi_3%</th>\n",
       "      <th>hdi_97%</th>\n",
       "      <th>mcse_mean</th>\n",
       "      <th>mcse_sd</th>\n",
       "      <th>ess_bulk</th>\n",
       "      <th>ess_tail</th>\n",
       "      <th>r_hat</th>\n",
       "    </tr>\n",
       "  </thead>\n",
       "  <tbody>\n",
       "    <tr>\n",
       "      <th>Intercept</th>\n",
       "      <td>3.089</td>\n",
       "      <td>0.022</td>\n",
       "      <td>3.045</td>\n",
       "      <td>3.126</td>\n",
       "      <td>0.000</td>\n",
       "      <td>0.0</td>\n",
       "      <td>2697.0</td>\n",
       "      <td>2757.0</td>\n",
       "      <td>1.0</td>\n",
       "    </tr>\n",
       "    <tr>\n",
       "      <th>beta_roach1</th>\n",
       "      <td>0.698</td>\n",
       "      <td>0.009</td>\n",
       "      <td>0.682</td>\n",
       "      <td>0.716</td>\n",
       "      <td>0.000</td>\n",
       "      <td>0.0</td>\n",
       "      <td>3008.0</td>\n",
       "      <td>3014.0</td>\n",
       "      <td>1.0</td>\n",
       "    </tr>\n",
       "    <tr>\n",
       "      <th>beta_senior</th>\n",
       "      <td>-0.379</td>\n",
       "      <td>0.034</td>\n",
       "      <td>-0.443</td>\n",
       "      <td>-0.317</td>\n",
       "      <td>0.001</td>\n",
       "      <td>0.0</td>\n",
       "      <td>3361.0</td>\n",
       "      <td>2736.0</td>\n",
       "      <td>1.0</td>\n",
       "    </tr>\n",
       "    <tr>\n",
       "      <th>beta_treatment</th>\n",
       "      <td>-0.517</td>\n",
       "      <td>0.025</td>\n",
       "      <td>-0.564</td>\n",
       "      <td>-0.470</td>\n",
       "      <td>0.000</td>\n",
       "      <td>0.0</td>\n",
       "      <td>3116.0</td>\n",
       "      <td>2926.0</td>\n",
       "      <td>1.0</td>\n",
       "    </tr>\n",
       "  </tbody>\n",
       "</table>\n",
       "</div>"
      ],
      "text/plain": [
       "                 mean     sd  hdi_3%  hdi_97%  mcse_mean  mcse_sd  ess_bulk  \\\n",
       "Intercept       3.089  0.022   3.045    3.126      0.000      0.0    2697.0   \n",
       "beta_roach1     0.698  0.009   0.682    0.716      0.000      0.0    3008.0   \n",
       "beta_senior    -0.379  0.034  -0.443   -0.317      0.001      0.0    3361.0   \n",
       "beta_treatment -0.517  0.025  -0.564   -0.470      0.000      0.0    3116.0   \n",
       "\n",
       "                ess_tail  r_hat  \n",
       "Intercept         2757.0    1.0  \n",
       "beta_roach1       3014.0    1.0  \n",
       "beta_senior       2736.0    1.0  \n",
       "beta_treatment    2926.0    1.0  "
      ]
     },
     "execution_count": 50,
     "metadata": {},
     "output_type": "execute_result"
    }
   ],
   "source": [
    "# recreate the model using pymc\n",
    "with pm.Model() as model_pymc:\n",
    "    # priors\n",
    "    alpha = pm.Normal(\"Intercept\", mu=0, sigma=4.5)\n",
    "    beta_roach1 = pm.Normal(\"beta_roach1\", mu=0, sigma=3.3)\n",
    "    beta_treatment = pm.Normal(\"beta_treatment\", mu=0, sigma=5.11)\n",
    "    beta_senior = pm.Normal(\"beta_senior\", mu=0, sigma=5.43)\n",
    "    \n",
    "    # likelihood\n",
    "    mu = pm.math.exp(alpha + beta_roach1 * roaches[\"roach1\"] +\n",
    "                             beta_treatment * roaches[\"treatment\"] +\n",
    "                             beta_senior * roaches[\"senior\"] +\n",
    "                             pm.math.log(roaches[\"exposure2\"])) # no beta for exposure2 \n",
    "    y = pm.Poisson(\"y\", mu=mu, observed=roaches[\"y\"])\n",
    "\n",
    "    idata_pymc = pm.sample(1000)  \n",
    "\n",
    "az.summary(idata_pymc)"
   ]
  },
  {
   "cell_type": "markdown",
   "metadata": {},
   "source": [
    "In this model (`model_pymc`) we have the equivalent Poisson regression with everything explicit to illustrate what the 'offset' function is doing. It simply makes it possible to express a term like this in the `formulae` string in a `bambi` model.\n",
    "\n",
    " "
   ]
  }
 ],
 "metadata": {
  "kernelspec": {
   "display_name": "pymc_env",
   "language": "python",
   "name": "python3"
  },
  "language_info": {
   "codemirror_mode": {
    "name": "ipython",
    "version": 3
   },
   "file_extension": ".py",
   "mimetype": "text/x-python",
   "name": "python",
   "nbconvert_exporter": "python",
   "pygments_lexer": "ipython3",
   "version": "3.12.5"
  }
 },
 "nbformat": 4,
 "nbformat_minor": 2
}
